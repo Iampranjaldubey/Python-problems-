{
 "cells": [
  {
   "cell_type": "markdown",
   "metadata": {},
   "source": [
    "# These are the basic 10 questions based on the if-else conditions."
   ]
  },
  {
   "cell_type": "code",
   "execution_count": 1,
   "metadata": {},
   "outputs": [],
   "source": [
    "#1.Given an integer, return True if it is even, else return False.\n",
    "\n",
    "def is_even(x):\n",
    "    if x==0:\n",
    "        return None\n",
    "    elif x%2==0:\n",
    "        return True\n",
    "    else:\n",
    "        return False\n",
    "    \n"
   ]
  },
  {
   "cell_type": "code",
   "execution_count": null,
   "metadata": {},
   "outputs": [],
   "source": [
    "#2.Given two integers, return the larger one.\n",
    "def is_greater(x,y):\n",
    "    if x>y:\n",
    "        return x\n",
    "    else:\n",
    "        return y"
   ]
  },
  {
   "cell_type": "code",
   "execution_count": null,
   "metadata": {},
   "outputs": [],
   "source": [
    "\"\"\"3.Given a temperature in Celsius, convert it to Fahrenheit using the formula F = (C * 1.8) + 32.\n",
    " If the temperature is above 90°F, return True otherwise, return False.\"\"\"\n",
    "def tem_in_fahren(c):\n",
    "    F = (c * 1.8) + 32\n",
    "    if F>90:\n",
    "        print(\"true\")\n",
    "    else:\n",
    "        print(\"false\")\n",
    "    return F"
   ]
  },
  {
   "cell_type": "code",
   "execution_count": null,
   "metadata": {},
   "outputs": [],
   "source": [
    "\"\"\"4.Given a year, return True if it is a leap year, else return False.\n",
    " A leap year is divisible by 4, except for years that are divisible by 100.\n",
    "   However, years that are divisible by 400 are also leap years.\"\"\"\n",
    "\n",
    "def is_leap_year(year):\n",
    "    if (year % 4 == 0 and year % 100 != 0) or (year % 400 == 0):\n",
    "        return True\n",
    "    else:\n",
    "        return False\n"
   ]
  },
  {
   "cell_type": "code",
   "execution_count": null,
   "metadata": {},
   "outputs": [],
   "source": [
    "#5.Given two numbers, a and b, return the value of a/b (return None if b is zero).\n",
    "def two_numbers(a,b):\n",
    "    if b==0:\n",
    "        return (\"none\")\n",
    "    else:\n",
    "        return a/b\n",
    "    \n"
   ]
  },
  {
   "cell_type": "code",
   "execution_count": null,
   "metadata": {},
   "outputs": [],
   "source": [
    "'''6.Given a point (x1, y1), return the quadrant (integer values given below) in which this point lies.\n",
    "[0: origin, 1: first quadrant, 2: second quadrant, 3: third quadrant, 4: fourth quadrant, 12: positive y-axis, \n",
    "23: negative x-axis, 34: negative y-axis, 41: positive x-axis]'''\n",
    "def points(x,y):\n",
    "    if (x>0 and y>0):\n",
    "        return 1\n",
    "    elif (x<0 and y>0):\n",
    "        return 2\n",
    "    elif (x<0 and y<0):\n",
    "        return 3\n",
    "    elif (x>0 and y<0):\n",
    "        return 4\n",
    "    elif (x==0 and y==0):\n",
    "        return 0\n",
    "    elif (x==0 and y>0):\n",
    "        return 12\n",
    "    elif (x>0 and y==0):\n",
    "        return 41\n",
    "    elif (x==0 and y<0):\n",
    "        return 34\n",
    "    else:\n",
    "        return 23"
   ]
  },
  {
   "cell_type": "code",
   "execution_count": null,
   "metadata": {},
   "outputs": [],
   "source": [
    "\"\"\"7.Given two points (x1, y1) and (x2, y2), return the slope and intercept of the line joining these two points (the line may be perfectly horizontal or vertical). \n",
    " Input should be in this format : (x1, y1, x2, y2).\"\"\"\n",
    "def points(x1, y1, x2, y2):\n",
    "    if x2-x1==0:\n",
    "        return None\n",
    "    slope = (y2 - y1) / (x2 - x1)\n",
    "    intercept = y1 - slope * x1\n",
    "    return slope,intercept"
   ]
  },
  {
   "cell_type": "code",
   "execution_count": null,
   "metadata": {},
   "outputs": [],
   "source": [
    "'''8.Given a quadratic equation with coefficients a, b and c, return the two solutions (may be real or complex).\n",
    " You should not take the square root of a negative number in your code. Output should be a list of two tuples. \n",
    " So if the roots are 1+2j and 1–2j, the output of the function should be [(1,2), (1,-2)]. If the roots are real, \n",
    " then the second part of both the tuples becomes zero.'''\n",
    "\n",
    "def quadratic_solutions(a, b, c):\n",
    "    discriminant = b**2 - 4*a*c\n",
    "    real_part = -b / (2 * a)\n",
    "    \n",
    "    if discriminant > 0:\n",
    "        # Two distinct real roots\n",
    "        imaginary_part = 0\n",
    "        root1 = (real_part + (discriminant**0.5) / (2*a))\n",
    "        root2 = (real_part - (discriminant**0.5) / (2*a))\n",
    "        return[\"Two distinct real roots\",root1,root2]\n",
    "    elif discriminant == 0:\n",
    "        # One double real root\n",
    "        imaginary_part = 0\n",
    "        root1 = (real_part)\n",
    "        root2 = (real_part)\n",
    "        return[\"One double real root:\",root1,root2]\n",
    "    else:\n",
    "        # Two complex roots\n",
    "        imaginary_part = (-discriminant**0.5) / (2*a)\n",
    "        root1 = (real_part, imaginary_part)\n",
    "        root2 = (real_part, -imaginary_part)\n",
    "        return[\"Two complex roots:\",root1,root2]\n",
    "\n",
    "\n"
   ]
  },
  {
   "cell_type": "code",
   "execution_count": null,
   "metadata": {},
   "outputs": [],
   "source": [
    "\"\"\"9.Given three points, return True if they lie on the same straight line, else return False.\n",
    " Input should be in this format : (x1, y1, x2, y2, x3, y3).\"\"\"\n",
    "def points(x1, y1, x2, y2, x3, y3):\n",
    "    if (x2-x1)==0 or (x3-x2)==0:\n",
    "        return None\n",
    "    slope1= ((y2-y1)/(x2-x1))\n",
    "    slope2= ((y3-y2)/(x3-x2))\n",
    "    if slope1==slope2:\n",
    "        return True\n",
    "    else:\n",
    "        return False"
   ]
  },
  {
   "cell_type": "code",
   "execution_count": null,
   "metadata": {},
   "outputs": [],
   "source": [
    "'''10.Given three integers, return the smallest one.'''\n",
    "def numbers(a,b,c):\n",
    "    if a <= b and a <= c:\n",
    "        return a\n",
    "    elif b <= a and b <= c:\n",
    "        return b\n",
    "    else:\n",
    "        return c"
   ]
  }
 ],
 "metadata": {
  "kernelspec": {
   "display_name": "Python 3",
   "language": "python",
   "name": "python3"
  },
  "language_info": {
   "codemirror_mode": {
    "name": "ipython",
    "version": 3
   },
   "file_extension": ".py",
   "mimetype": "text/x-python",
   "name": "python",
   "nbconvert_exporter": "python",
   "pygments_lexer": "ipython3",
   "version": "3.12.5"
  }
 },
 "nbformat": 4,
 "nbformat_minor": 2
}
